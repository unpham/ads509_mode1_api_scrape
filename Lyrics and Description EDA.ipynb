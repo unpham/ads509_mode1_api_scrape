{
 "cells": [
  {
   "cell_type": "markdown",
   "id": "7f79baf9",
   "metadata": {},
   "source": [
    "# ADS 509 Assignment 2.1: Tokenization, Normalization, Descriptive Statistics \n",
    "\n",
    "This notebook holds Assignment 2.1 for Module 2 in ADS 509, Applied Text Mining. Work through this notebook, writing code and answering questions where required. \n",
    "\n",
    "In the previous assignment you put together Twitter data and lyrics data on two artists. In this assignment we explore some of the textual features of those data sets. If, for some reason, you did not complete that previous assignment, data to use for this assignment can be found in the assignment materials section of Blackboard. \n",
    "\n",
    "This assignment asks you to write a short function to calculate some descriptive statistics on a piece of text. Then you are asked to find some interesting and unique statistics on your corpora. \n"
   ]
  },
  {
   "cell_type": "markdown",
   "id": "aae8e2e1",
   "metadata": {},
   "source": [
    "## General Assignment Instructions\n",
    "\n",
    "These instructions are included in every assignment, to remind you of the coding standards for the class. Feel free to delete this cell after reading it. \n",
    "\n",
    "One sign of mature code is conforming to a style guide. We recommend the [Google Python Style Guide](https://google.github.io/styleguide/pyguide.html). If you use a different style guide, please include a cell with a link. \n",
    "\n",
    "Your code should be relatively easy-to-read, sensibly commented, and clean. Writing code is a messy process, so please be sure to edit your final submission. Remove any cells that are not needed or parts of cells that contain unnecessary code. Remove inessential `import` statements and make sure that all such statements are moved into the designated cell. \n",
    "\n",
    "Make use of non-code cells for written commentary. These cells should be grammatical and clearly written. In some of these cells you will have questions to answer. The questions will be marked by a \"Q:\" and will have a corresponding \"A:\" spot for you. *Make sure to answer every question marked with a `Q:` for full credit.* \n"
   ]
  },
  {
   "cell_type": "code",
   "execution_count": 278,
   "id": "e2d096b7",
   "metadata": {},
   "outputs": [],
   "source": [
    "import os\n",
    "import re\n",
    "import emoji\n",
    "import pandas as pd\n",
    "import numpy as np\n",
    "\n",
    "from collections import Counter, defaultdict\n",
    "from nltk.corpus import stopwords\n",
    "from string import punctuation\n",
    "\n",
    "sw = stopwords.words(\"english\")"
   ]
  },
  {
   "cell_type": "code",
   "execution_count": 279,
   "id": "6b555ab2",
   "metadata": {},
   "outputs": [],
   "source": [
    "# Add any additional import statements you need here\n",
    "from nltk.tokenize import WordPunctTokenizer\n",
    "import string\n",
    "import unicodedata\n",
    "import matplotlib.pyplot as plt"
   ]
  },
  {
   "cell_type": "code",
   "execution_count": 26,
   "id": "923b5a86",
   "metadata": {},
   "outputs": [],
   "source": [
    "# change `data_location` to the location of the folder on your machine.\n",
    "data_location = \"/Users/lamnguyen/Dropbox/Uyen bom/USD/ADS-509/mod1/ads509_mode1_api_scrape/\"\n",
    "# data folder\n",
    "twitter_folder = \"twitter/\"\n",
    "lyrics_folder = \"lyrics/\""
   ]
  },
  {
   "cell_type": "code",
   "execution_count": 161,
   "id": "408d9289",
   "metadata": {},
   "outputs": [],
   "source": [
    "def descriptive_stats(tokens, num_tokens=5, verbose=True):\n",
    "    \"\"\"\n",
    "    Given a list of tokens, calculate and print the number of tokens, number of unique tokens,\n",
    "    number of characters, lexical diversity, and the most common tokens. Return a list with\n",
    "    the calculated statistics.\n",
    "    \"\"\"\n",
    "    \n",
    "    num_tokens = len(tokens)\n",
    "    num_unique_tokens = len(set(tokens))\n",
    "    num_characters = sum(len(token) for token in tokens)\n",
    "    lexical_diversity = num_unique_tokens / num_tokens\n",
    "    \n",
    "    if verbose:\n",
    "        print(f\"There are {num_tokens} tokens in the data.\")\n",
    "        print(f\"There are {num_unique_tokens} unique tokens in the data.\")\n",
    "        print(f\"There are {num_characters} characters in the data.\")\n",
    "        print(f\"The lexical diversity is {lexical_diversity:.3f} in the data.\")\n",
    "        \n",
    "        # Print the 5 most common tokens\n",
    "        common_tokens = Counter(tokens).most_common(num_tokens)\n",
    "        print(\"The most common tokens are:\")\n",
    "        for token, count in common_tokens[:5]: #print out 5 most common token\n",
    "            print(f\"{token}: {count}\")\n",
    "    \n",
    "    return [num_tokens, num_unique_tokens, lexical_diversity, num_characters]"
   ]
  },
  {
   "cell_type": "code",
   "execution_count": 162,
   "id": "59dcf058",
   "metadata": {},
   "outputs": [
    {
     "name": "stdout",
     "output_type": "stream",
     "text": [
      "There are 13 tokens in the data.\n",
      "There are 9 unique tokens in the data.\n",
      "There are 55 characters in the data.\n",
      "The lexical diversity is 0.692 in the data.\n",
      "The most common tokens are:\n",
      "text: 3\n",
      "here: 2\n",
      "example: 2\n",
      "is: 1\n",
      "some: 1\n"
     ]
    }
   ],
   "source": [
    "text = \"\"\"here is some example text with other example text here in this text\"\"\".split()\n",
    "assert(descriptive_stats(text, verbose=True)[0] == 13)\n",
    "assert(descriptive_stats(text, verbose=False)[1] == 9)\n",
    "assert(abs(descriptive_stats(text, verbose=False)[2] - 0.69) < 0.02)\n",
    "assert(descriptive_stats(text, verbose=False)[3] == 55)\n"
   ]
  },
  {
   "cell_type": "markdown",
   "id": "d2e7e1a2",
   "metadata": {},
   "source": [
    "Q: Why is it beneficial to use assertion statements in your code? \n",
    "\n",
    "A: The assertion statements are used to raise errors if the conditions are not met. In this case, it will raise error if the discriptive_stat claculation came out different than the expected values."
   ]
  },
  {
   "cell_type": "markdown",
   "id": "9d3bf93e",
   "metadata": {},
   "source": [
    "## Data Input\n",
    "\n",
    "Now read in each of the corpora. For the lyrics data, it may be convenient to store the entire contents of the file to make it easier to inspect the titles individually, as you'll do in the last part of the assignment. In the solution, I stored the lyrics data in a dictionary with two dimensions of keys: artist and song. The value was the file contents. A data frame would work equally well. \n",
    "\n",
    "For the Twitter data, we only need the description field for this assignment. Feel free all the descriptions read it into a data structure. In the solution, I stored the descriptions as a dictionary of lists, with the key being the artist. \n",
    "\n",
    "\n"
   ]
  },
  {
   "cell_type": "code",
   "execution_count": 256,
   "id": "b850a902",
   "metadata": {},
   "outputs": [],
   "source": [
    "# Read in the lyrics data\n",
    "#Create list lyric data list\n",
    "lyrics_data = []\n",
    "\n",
    "# Set path to the artist folders\n",
    "for artist_folder in os.listdir(data_location + lyrics_folder):\n",
    "    artist_path = os.path.join(data_location + lyrics_folder, artist_folder)\n",
    "    \n",
    "    # set path to the lyric file\n",
    "    for lyric_file in os.listdir(artist_path):\n",
    "        lyric_path = os.path.join(artist_path, lyric_file)\n",
    "            \n",
    "        # Read the lyrics from the lyric files\n",
    "        with open(lyric_path, 'r', encoding='utf8') as infile:\n",
    "            lyrics = infile.read()\n",
    "\n",
    "        # Extract the title from the lyrics\n",
    "        title = lyrics.split(\"\\n\", 1)[0].strip()\n",
    "\n",
    "        # Remove the title from the lyrics\n",
    "        lyrics = lyrics.replace(title, \"\").strip()\n",
    "\n",
    "        # Append the artist, title, and lyrics to the data list\n",
    "        lyrics_data.append([artist_folder, title, lyrics])\n",
    "\n",
    "# Create a DataFrame from the lyrics data\n",
    "lyric_df = pd.DataFrame(lyrics_data, columns=['artist', 'title', 'lyrics'])"
   ]
  },
  {
   "cell_type": "code",
   "execution_count": 257,
   "id": "db367068",
   "metadata": {},
   "outputs": [
    {
     "data": {
      "text/html": [
       "<div>\n",
       "<style scoped>\n",
       "    .dataframe tbody tr th:only-of-type {\n",
       "        vertical-align: middle;\n",
       "    }\n",
       "\n",
       "    .dataframe tbody tr th {\n",
       "        vertical-align: top;\n",
       "    }\n",
       "\n",
       "    .dataframe thead th {\n",
       "        text-align: right;\n",
       "    }\n",
       "</style>\n",
       "<table border=\"1\" class=\"dataframe\">\n",
       "  <thead>\n",
       "    <tr style=\"text-align: right;\">\n",
       "      <th></th>\n",
       "      <th>artist</th>\n",
       "      <th>title</th>\n",
       "      <th>lyrics</th>\n",
       "    </tr>\n",
       "  </thead>\n",
       "  <tbody>\n",
       "    <tr>\n",
       "      <th>0</th>\n",
       "      <td>robyn</td>\n",
       "      <td>\"Include Me Out\"</td>\n",
       "      <td>It is really very simple\\nJust a single pulse,...</td>\n",
       "    </tr>\n",
       "    <tr>\n",
       "      <th>1</th>\n",
       "      <td>robyn</td>\n",
       "      <td>\"Electric\"</td>\n",
       "      <td>Electric...\\n\\nIt's electric\\nIt's a natural h...</td>\n",
       "    </tr>\n",
       "    <tr>\n",
       "      <th>2</th>\n",
       "      <td>robyn</td>\n",
       "      <td>\"Beach 2K20\"</td>\n",
       "      <td>(So you wanna go out?\\nHow you gonna get there...</td>\n",
       "    </tr>\n",
       "    <tr>\n",
       "      <th>3</th>\n",
       "      <td>robyn</td>\n",
       "      <td>\"Love Kills\"</td>\n",
       "      <td>If you're looking for love\\nGet a heart made o...</td>\n",
       "    </tr>\n",
       "    <tr>\n",
       "      <th>4</th>\n",
       "      <td>robyn</td>\n",
       "      <td>\"Time Machine\"</td>\n",
       "      <td>Hey, what did I do?\\nCan't believe the fit I j...</td>\n",
       "    </tr>\n",
       "  </tbody>\n",
       "</table>\n",
       "</div>"
      ],
      "text/plain": [
       "  artist             title                                             lyrics\n",
       "0  robyn  \"Include Me Out\"  It is really very simple\\nJust a single pulse,...\n",
       "1  robyn        \"Electric\"  Electric...\\n\\nIt's electric\\nIt's a natural h...\n",
       "2  robyn      \"Beach 2K20\"  (So you wanna go out?\\nHow you gonna get there...\n",
       "3  robyn      \"Love Kills\"  If you're looking for love\\nGet a heart made o...\n",
       "4  robyn    \"Time Machine\"  Hey, what did I do?\\nCan't believe the fit I j..."
      ]
     },
     "execution_count": 257,
     "metadata": {},
     "output_type": "execute_result"
    }
   ],
   "source": [
    "lyric_df.head()"
   ]
  },
  {
   "cell_type": "code",
   "execution_count": 258,
   "id": "d2ff8dce",
   "metadata": {},
   "outputs": [],
   "source": [
    "# Read in the twitter data\n",
    "twitter_files = os.listdir(data_location + twitter_folder)\n",
    "desc_files = [f for f in twitter_files if \"followers_data\" in f]\n",
    "twitter_data = defaultdict(list)\n",
    "for f in desc_files :\n",
    "    artist = f.split(\"_\")[0]\n",
    "        \n",
    "    with open(data_location + twitter_folder + f,'r', encoding='utf8') as infile :\n",
    "        next(infile)\n",
    "        for idx, line in enumerate(infile.readlines()) :\n",
    "            line = line.strip().split(\"\\t\")\n",
    "            if len(line) == 7 :\n",
    "                twitter_data[artist].append(line[6])\n",
    "\n",
    "# Convert the dictionary to a DataFrame\n",
    "twit_df = pd.DataFrame.from_dict(twitter_data, orient='index')\n",
    "# Transpose the DataFrame to have artists as columns\n",
    "twit_df = twit_df.transpose()"
   ]
  },
  {
   "cell_type": "code",
   "execution_count": 104,
   "id": "0d1bb591",
   "metadata": {
    "scrolled": true
   },
   "outputs": [
    {
     "data": {
      "text/html": [
       "<div>\n",
       "<style scoped>\n",
       "    .dataframe tbody tr th:only-of-type {\n",
       "        vertical-align: middle;\n",
       "    }\n",
       "\n",
       "    .dataframe tbody tr th {\n",
       "        vertical-align: top;\n",
       "    }\n",
       "\n",
       "    .dataframe thead th {\n",
       "        text-align: right;\n",
       "    }\n",
       "</style>\n",
       "<table border=\"1\" class=\"dataframe\">\n",
       "  <thead>\n",
       "    <tr style=\"text-align: right;\">\n",
       "      <th></th>\n",
       "      <th>cher</th>\n",
       "      <th>robynkonichiwa</th>\n",
       "    </tr>\n",
       "  </thead>\n",
       "  <tbody>\n",
       "    <tr>\n",
       "      <th>0</th>\n",
       "      <td>𝙿𝚛𝚘𝚞𝚍 𝚜𝚞𝚙𝚙𝚘𝚛𝚝𝚎𝚛 𝚘𝚏 𝚖𝚎𝚜𝚜𝚢 𝚋𝚞𝚗𝚜 &amp; 𝚕𝚎𝚐𝚐𝚒𝚗𝚐𝚜</td>\n",
       "      <td>\"I love chill\" •Facebook / Instagram / SoundCl...</td>\n",
       "    </tr>\n",
       "    <tr>\n",
       "      <th>1</th>\n",
       "      <td>163㎝／愛かっぷ💜26歳🍒 工〇好きな女の子💓 フォローしてくれたらDMします🧡</td>\n",
       "      <td>books, movies, music, nature &amp; TV shows. OG Sw...</td>\n",
       "    </tr>\n",
       "    <tr>\n",
       "      <th>2</th>\n",
       "      <td>csu</td>\n",
       "      <td>(Am)auteur en herbe 🌱 - juriste en paille 🤡 - ...</td>\n",
       "    </tr>\n",
       "    <tr>\n",
       "      <th>3</th>\n",
       "      <td>Writer @Washinformer @SpelmanCollege alumna #D...</td>\n",
       "      <td>This Twitter profile is full of sarcasm and ra...</td>\n",
       "    </tr>\n",
       "    <tr>\n",
       "      <th>4</th>\n",
       "      <td>I’m unemployed and live with my parents. MOOPS!</td>\n",
       "      <td>Flora Youssef - Blogger &amp; Founder Posting revi...</td>\n",
       "    </tr>\n",
       "  </tbody>\n",
       "</table>\n",
       "</div>"
      ],
      "text/plain": [
       "                                                cher  \\\n",
       "0           𝙿𝚛𝚘𝚞𝚍 𝚜𝚞𝚙𝚙𝚘𝚛𝚝𝚎𝚛 𝚘𝚏 𝚖𝚎𝚜𝚜𝚢 𝚋𝚞𝚗𝚜 & 𝚕𝚎𝚐𝚐𝚒𝚗𝚐𝚜   \n",
       "1          163㎝／愛かっぷ💜26歳🍒 工〇好きな女の子💓 フォローしてくれたらDMします🧡   \n",
       "2                                                csu   \n",
       "3  Writer @Washinformer @SpelmanCollege alumna #D...   \n",
       "4    I’m unemployed and live with my parents. MOOPS!   \n",
       "\n",
       "                                      robynkonichiwa  \n",
       "0  \"I love chill\" •Facebook / Instagram / SoundCl...  \n",
       "1  books, movies, music, nature & TV shows. OG Sw...  \n",
       "2  (Am)auteur en herbe 🌱 - juriste en paille 🤡 - ...  \n",
       "3  This Twitter profile is full of sarcasm and ra...  \n",
       "4  Flora Youssef - Blogger & Founder Posting revi...  "
      ]
     },
     "execution_count": 104,
     "metadata": {},
     "output_type": "execute_result"
    }
   ],
   "source": [
    "twit_df.head()"
   ]
  },
  {
   "cell_type": "markdown",
   "id": "6a5f3b12",
   "metadata": {},
   "source": [
    "## Data Cleaning\n",
    "\n",
    "Now clean and tokenize your data. Remove punctuation chacters (available in the `punctuation` object in the `string` library), split on whitespace, fold to lowercase, and remove stopwords. Store your cleaned data, which must be accessible as an interable for `descriptive_stats`, in new objects or in new columns in your data frame. \n",
    "\n"
   ]
  },
  {
   "cell_type": "code",
   "execution_count": 259,
   "id": "93611f9a",
   "metadata": {},
   "outputs": [],
   "source": [
    "punctuation = set(punctuation) # speeds up comparison\n",
    "\n",
    "# Tokenizer\n",
    "tokenizer = WordPunctTokenizer()\n",
    "\n",
    "# Function to clean and tokenize the lyrics\n",
    "def clean_tokenize(text):\n",
    "    if text is None:\n",
    "        return []\n",
    "    # Remove punctuation\n",
    "    text = ''.join([c for c in text if c not in punctuation])\n",
    "    # Tokenize the text\n",
    "    tokens = tokenizer.tokenize(text)\n",
    "    # Convert tokens to lowercase\n",
    "    tokens = [token.lower() for token in tokens]\n",
    "    # Remove stopwords\n",
    "    stop_words = set(stopwords.words('english'))\n",
    "    tokens = [token for token in tokens if token not in stop_words]\n",
    "    return tokens\n"
   ]
  },
  {
   "cell_type": "code",
   "execution_count": 169,
   "id": "47b456ed",
   "metadata": {},
   "outputs": [
    {
     "data": {
      "text/html": [
       "<div>\n",
       "<style scoped>\n",
       "    .dataframe tbody tr th:only-of-type {\n",
       "        vertical-align: middle;\n",
       "    }\n",
       "\n",
       "    .dataframe tbody tr th {\n",
       "        vertical-align: top;\n",
       "    }\n",
       "\n",
       "    .dataframe thead th {\n",
       "        text-align: right;\n",
       "    }\n",
       "</style>\n",
       "<table border=\"1\" class=\"dataframe\">\n",
       "  <thead>\n",
       "    <tr style=\"text-align: right;\">\n",
       "      <th></th>\n",
       "      <th>cher</th>\n",
       "      <th>robynkonichiwa</th>\n",
       "      <th>cleaned_cher</th>\n",
       "      <th>cleaned_robynkonichiwa</th>\n",
       "    </tr>\n",
       "  </thead>\n",
       "  <tbody>\n",
       "    <tr>\n",
       "      <th>0</th>\n",
       "      <td>𝙿𝚛𝚘𝚞𝚍 𝚜𝚞𝚙𝚙𝚘𝚛𝚝𝚎𝚛 𝚘𝚏 𝚖𝚎𝚜𝚜𝚢 𝚋𝚞𝚗𝚜 &amp; 𝚕𝚎𝚐𝚐𝚒𝚗𝚐𝚜</td>\n",
       "      <td>\"I love chill\" •Facebook / Instagram / SoundCl...</td>\n",
       "      <td>[𝙿𝚛𝚘𝚞𝚍, 𝚜𝚞𝚙𝚙𝚘𝚛𝚝𝚎𝚛, 𝚘𝚏, 𝚖𝚎𝚜𝚜𝚢, 𝚋𝚞𝚗𝚜, 𝚕𝚎𝚐𝚐𝚒𝚗𝚐𝚜]</td>\n",
       "      <td>[love, chill, •, facebook, instagram, soundclo...</td>\n",
       "    </tr>\n",
       "    <tr>\n",
       "      <th>1</th>\n",
       "      <td>163㎝／愛かっぷ💜26歳🍒 工〇好きな女の子💓 フォローしてくれたらDMします🧡</td>\n",
       "      <td>books, movies, music, nature &amp; TV shows. OG Sw...</td>\n",
       "      <td>[163, ㎝／, 愛かっぷ, 💜, 26歳, 🍒, 工〇好きな女の子, 💓, フォローして...</td>\n",
       "      <td>[books, movies, music, nature, tv, shows, og, ...</td>\n",
       "    </tr>\n",
       "    <tr>\n",
       "      <th>2</th>\n",
       "      <td>csu</td>\n",
       "      <td>(Am)auteur en herbe 🌱 - juriste en paille 🤡 - ...</td>\n",
       "      <td>[csu]</td>\n",
       "      <td>[amauteur, en, herbe, 🌱, juriste, en, paille, ...</td>\n",
       "    </tr>\n",
       "    <tr>\n",
       "      <th>3</th>\n",
       "      <td>Writer @Washinformer @SpelmanCollege alumna #D...</td>\n",
       "      <td>This Twitter profile is full of sarcasm and ra...</td>\n",
       "      <td>[writer, washinformer, spelmancollege, alumna,...</td>\n",
       "      <td>[twitter, profile, full, sarcasm, rants, occas...</td>\n",
       "    </tr>\n",
       "    <tr>\n",
       "      <th>4</th>\n",
       "      <td>I’m unemployed and live with my parents. MOOPS!</td>\n",
       "      <td>Flora Youssef - Blogger &amp; Founder Posting revi...</td>\n",
       "      <td>[’, unemployed, live, parents, moops]</td>\n",
       "      <td>[flora, youssef, blogger, founder, posting, re...</td>\n",
       "    </tr>\n",
       "  </tbody>\n",
       "</table>\n",
       "</div>"
      ],
      "text/plain": [
       "                                                cher  \\\n",
       "0           𝙿𝚛𝚘𝚞𝚍 𝚜𝚞𝚙𝚙𝚘𝚛𝚝𝚎𝚛 𝚘𝚏 𝚖𝚎𝚜𝚜𝚢 𝚋𝚞𝚗𝚜 & 𝚕𝚎𝚐𝚐𝚒𝚗𝚐𝚜   \n",
       "1          163㎝／愛かっぷ💜26歳🍒 工〇好きな女の子💓 フォローしてくれたらDMします🧡   \n",
       "2                                                csu   \n",
       "3  Writer @Washinformer @SpelmanCollege alumna #D...   \n",
       "4    I’m unemployed and live with my parents. MOOPS!   \n",
       "\n",
       "                                      robynkonichiwa  \\\n",
       "0  \"I love chill\" •Facebook / Instagram / SoundCl...   \n",
       "1  books, movies, music, nature & TV shows. OG Sw...   \n",
       "2  (Am)auteur en herbe 🌱 - juriste en paille 🤡 - ...   \n",
       "3  This Twitter profile is full of sarcasm and ra...   \n",
       "4  Flora Youssef - Blogger & Founder Posting revi...   \n",
       "\n",
       "                                        cleaned_cher  \\\n",
       "0      [𝙿𝚛𝚘𝚞𝚍, 𝚜𝚞𝚙𝚙𝚘𝚛𝚝𝚎𝚛, 𝚘𝚏, 𝚖𝚎𝚜𝚜𝚢, 𝚋𝚞𝚗𝚜, 𝚕𝚎𝚐𝚐𝚒𝚗𝚐𝚜]   \n",
       "1  [163, ㎝／, 愛かっぷ, 💜, 26歳, 🍒, 工〇好きな女の子, 💓, フォローして...   \n",
       "2                                              [csu]   \n",
       "3  [writer, washinformer, spelmancollege, alumna,...   \n",
       "4              [’, unemployed, live, parents, moops]   \n",
       "\n",
       "                              cleaned_robynkonichiwa  \n",
       "0  [love, chill, •, facebook, instagram, soundclo...  \n",
       "1  [books, movies, music, nature, tv, shows, og, ...  \n",
       "2  [amauteur, en, herbe, 🌱, juriste, en, paille, ...  \n",
       "3  [twitter, profile, full, sarcasm, rants, occas...  \n",
       "4  [flora, youssef, blogger, founder, posting, re...  "
      ]
     },
     "execution_count": 169,
     "metadata": {},
     "output_type": "execute_result"
    }
   ],
   "source": [
    "# create your clean twitter data here\n",
    "# Apply the cleaning and tokenization function to the twitter columns\n",
    "twit_df['cleaned_cher'] = twit_df['cher'].apply(clean_tokenize)\n",
    "twit_df['cleaned_robynkonichiwa'] = twit_df['robynkonichiwa'].apply(clean_tokenize)\n",
    "twit_df.head()"
   ]
  },
  {
   "cell_type": "code",
   "execution_count": 261,
   "id": "e0f22e10",
   "metadata": {},
   "outputs": [
    {
     "data": {
      "text/html": [
       "<div>\n",
       "<style scoped>\n",
       "    .dataframe tbody tr th:only-of-type {\n",
       "        vertical-align: middle;\n",
       "    }\n",
       "\n",
       "    .dataframe tbody tr th {\n",
       "        vertical-align: top;\n",
       "    }\n",
       "\n",
       "    .dataframe thead th {\n",
       "        text-align: right;\n",
       "    }\n",
       "</style>\n",
       "<table border=\"1\" class=\"dataframe\">\n",
       "  <thead>\n",
       "    <tr style=\"text-align: right;\">\n",
       "      <th></th>\n",
       "      <th>artist</th>\n",
       "      <th>title</th>\n",
       "      <th>lyrics</th>\n",
       "      <th>cleaned_lyrics</th>\n",
       "    </tr>\n",
       "  </thead>\n",
       "  <tbody>\n",
       "    <tr>\n",
       "      <th>0</th>\n",
       "      <td>robyn</td>\n",
       "      <td>\"Include Me Out\"</td>\n",
       "      <td>It is really very simple\\nJust a single pulse,...</td>\n",
       "      <td>[really, simple, single, pulse, repeated, regu...</td>\n",
       "    </tr>\n",
       "    <tr>\n",
       "      <th>1</th>\n",
       "      <td>robyn</td>\n",
       "      <td>\"Electric\"</td>\n",
       "      <td>Electric...\\n\\nIt's electric\\nIt's a natural h...</td>\n",
       "      <td>[electric, electric, natural, high, electric, ...</td>\n",
       "    </tr>\n",
       "    <tr>\n",
       "      <th>2</th>\n",
       "      <td>robyn</td>\n",
       "      <td>\"Beach 2K20\"</td>\n",
       "      <td>(So you wanna go out?\\nHow you gonna get there...</td>\n",
       "      <td>[wanna, go, gonna, get, ok, call, someone, alr...</td>\n",
       "    </tr>\n",
       "    <tr>\n",
       "      <th>3</th>\n",
       "      <td>robyn</td>\n",
       "      <td>\"Love Kills\"</td>\n",
       "      <td>If you're looking for love\\nGet a heart made o...</td>\n",
       "      <td>[youre, looking, love, get, heart, made, steel...</td>\n",
       "    </tr>\n",
       "    <tr>\n",
       "      <th>4</th>\n",
       "      <td>robyn</td>\n",
       "      <td>\"Time Machine\"</td>\n",
       "      <td>Hey, what did I do?\\nCan't believe the fit I j...</td>\n",
       "      <td>[hey, cant, believe, fit, threw, stupid, wante...</td>\n",
       "    </tr>\n",
       "  </tbody>\n",
       "</table>\n",
       "</div>"
      ],
      "text/plain": [
       "  artist             title                                             lyrics  \\\n",
       "0  robyn  \"Include Me Out\"  It is really very simple\\nJust a single pulse,...   \n",
       "1  robyn        \"Electric\"  Electric...\\n\\nIt's electric\\nIt's a natural h...   \n",
       "2  robyn      \"Beach 2K20\"  (So you wanna go out?\\nHow you gonna get there...   \n",
       "3  robyn      \"Love Kills\"  If you're looking for love\\nGet a heart made o...   \n",
       "4  robyn    \"Time Machine\"  Hey, what did I do?\\nCan't believe the fit I j...   \n",
       "\n",
       "                                      cleaned_lyrics  \n",
       "0  [really, simple, single, pulse, repeated, regu...  \n",
       "1  [electric, electric, natural, high, electric, ...  \n",
       "2  [wanna, go, gonna, get, ok, call, someone, alr...  \n",
       "3  [youre, looking, love, get, heart, made, steel...  \n",
       "4  [hey, cant, believe, fit, threw, stupid, wante...  "
      ]
     },
     "execution_count": 261,
     "metadata": {},
     "output_type": "execute_result"
    }
   ],
   "source": [
    "# create your clean lyrics data here\n",
    "# Apply the cleaning and tokenization function to the lyrics column\n",
    "lyric_df['cleaned_lyrics'] = lyric_df['lyrics'].apply(clean_tokenize)\n",
    "lyric_df.head()"
   ]
  },
  {
   "cell_type": "markdown",
   "id": "f2dd0179",
   "metadata": {},
   "source": [
    "## Basic Descriptive Statistics\n",
    "\n",
    "Call your `descriptive_stats` function on both your lyrics data and your twitter data and for both artists (four total calls). "
   ]
  },
  {
   "cell_type": "code",
   "execution_count": null,
   "id": "f0bbedd9",
   "metadata": {},
   "outputs": [],
   "source": [
    "# calls to descriptive_stats here"
   ]
  },
  {
   "cell_type": "code",
   "execution_count": 163,
   "id": "1c1b12a8",
   "metadata": {
    "scrolled": true
   },
   "outputs": [
    {
     "name": "stdout",
     "output_type": "stream",
     "text": [
      "There are 15170 tokens in the data.\n",
      "There are 2157 unique tokens in the data.\n",
      "There are 72795 characters in the data.\n",
      "The lexical diversity is 0.142 in the data.\n",
      "The most common tokens are:\n",
      "know: 305\n",
      "im: 299\n",
      "dont: 297\n",
      "love: 269\n",
      "got: 250\n"
     ]
    },
    {
     "data": {
      "text/plain": [
       "[15170, 2157, 0.14218852999340803, 72795]"
      ]
     },
     "execution_count": 163,
     "metadata": {},
     "output_type": "execute_result"
    }
   ],
   "source": [
    "# calls descriptive_stats here for Robyn's lyric data\n",
    "descriptive_stats(lyric_df.loc[lyric_df['artist'] == 'robyn', 'cleaned_lyrics'].explode().tolist())"
   ]
  },
  {
   "cell_type": "code",
   "execution_count": 164,
   "id": "fcd745b0",
   "metadata": {},
   "outputs": [
    {
     "name": "stdout",
     "output_type": "stream",
     "text": [
      "There are 35266 tokens in the data.\n",
      "There are 3690 unique tokens in the data.\n",
      "There are 169232 characters in the data.\n",
      "The lexical diversity is 0.105 in the data.\n",
      "The most common tokens are:\n",
      "love: 966\n",
      "im: 511\n",
      "know: 480\n",
      "dont: 430\n",
      "youre: 332\n"
     ]
    },
    {
     "data": {
      "text/plain": [
       "[35266, 3690, 0.10463335790846708, 169232]"
      ]
     },
     "execution_count": 164,
     "metadata": {},
     "output_type": "execute_result"
    }
   ],
   "source": [
    "# calls descriptive_stats here for Cher's lyric data \n",
    "descriptive_stats(lyric_df.loc[lyric_df['artist'] == 'cher', 'cleaned_lyrics'].explode().tolist())"
   ]
  },
  {
   "cell_type": "code",
   "execution_count": 175,
   "id": "9e3dc437",
   "metadata": {},
   "outputs": [
    {
     "name": "stdout",
     "output_type": "stream",
     "text": [
      "There are 1528078 tokens in the data.\n",
      "There are 241824 unique tokens in the data.\n",
      "There are 9108181 characters in the data.\n",
      "The lexical diversity is 0.158 in the data.\n",
      "The most common tokens are:\n",
      "music: 15362\n",
      "love: 11828\n",
      "im: 9098\n",
      "och: 7924\n",
      "life: 7558\n"
     ]
    },
    {
     "data": {
      "text/plain": [
       "[1528078, 241824, 0.15825370170894418, 9108181]"
      ]
     },
     "execution_count": 175,
     "metadata": {},
     "output_type": "execute_result"
    }
   ],
   "source": [
    "#calls descriptive_stats here for Robyn's twitter data \n",
    "#Robyn's data seemed to have float typed token causing trouble in descriptive_stat calculation\n",
    "tokens = twit_df['cleaned_robynkonichiwa'].explode().tolist()\n",
    "\n",
    "#filter out float typed token and convert the remain to string to avoid error\n",
    "tokens = [str(token) for token in tokens if not isinstance(token, float)]\n",
    "descriptive_stats(tokens)"
   ]
  },
  {
   "cell_type": "code",
   "execution_count": 177,
   "id": "8012562c",
   "metadata": {},
   "outputs": [
    {
     "name": "stdout",
     "output_type": "stream",
     "text": [
      "There are 16190060 tokens in the data.\n",
      "There are 1336852 unique tokens in the data.\n",
      "There are 92628042 characters in the data.\n",
      "The lexical diversity is 0.083 in the data.\n",
      "The most common tokens are:\n",
      "love: 217711\n",
      "im: 139895\n",
      "life: 126473\n",
      "music: 90160\n",
      "’: 85846\n"
     ]
    },
    {
     "data": {
      "text/plain": [
       "[16190060, 1336852, 0.0825723931844601, 92628042]"
      ]
     },
     "execution_count": 177,
     "metadata": {},
     "output_type": "execute_result"
    }
   ],
   "source": [
    "#calls descriptive_stats here for Cher's twitter data \n",
    "#Cher's data seemed to have float typed token causing trouble in descriptive_stat calculation\n",
    "tokens = twit_df['cleaned_cher'].explode().tolist()\n",
    "\n",
    "#filter out float typed token and convert the remain to string to avoid error\n",
    "tokens = [str(token) for token in tokens if not isinstance(token, float)]\n",
    "descriptive_stats(tokens)"
   ]
  },
  {
   "attachments": {},
   "cell_type": "markdown",
   "id": "46294409",
   "metadata": {},
   "source": [
    "Q: How do you think the \"top 5 words\" would be different if we left stopwords in the data? \n",
    "\n",
    "A: Stopwords are words that are very common and would have high frequncy in the data. Therefore, if stopwords were left in the data, they would dominate the list of most common words. The result of top 5  mostcommon words might have been stopwords instead of other useful words.\n",
    "\n",
    "---\n",
    "\n",
    "Q: What were your prior beliefs about the lexical diversity between the artists? Does the difference (or lack thereof) in lexical diversity between the artists conform to your prior beliefs? \n",
    "\n",
    "A: My prior beliefs about the lexical diversity of lyrics between the artists was that there could be differences attributed to their distinct musical styles and the trending eras in which they were popular. Along with that, I also believed that the twitter lexical diversity might be influenced by the musical preferences, life perspectives, and writing styles of their respective fan bases, thereby leading to variations. The result showing differences in lexical diversity between the artists conformed these beliefs."
   ]
  },
  {
   "cell_type": "markdown",
   "id": "4d4e1ac1",
   "metadata": {},
   "source": [
    "\n",
    "## Specialty Statistics\n",
    "\n",
    "The descriptive statistics we have calculated are quite generic. You will now calculate a handful of statistics tailored to these data.\n",
    "\n",
    "1. Ten most common emojis by artist in the twitter descriptions.\n",
    "1. Ten most common hashtags by artist in the twitter descriptions.\n",
    "1. Five most common words in song titles by artist. \n",
    "1. For each artist, a histogram of song lengths (in terms of number of tokens) \n",
    "\n",
    "We can use the `emoji` library to help us identify emojis and you have been given a function to help you.\n"
   ]
  },
  {
   "cell_type": "code",
   "execution_count": 217,
   "id": "753a5a3e",
   "metadata": {},
   "outputs": [],
   "source": [
    "#verify the is_emoji() function correctly identifies emojis.\n",
    "assert(emoji.is_emoji(\"❤️\"))\n",
    "assert(not emoji.is_emoji(\":-)\"))"
   ]
  },
  {
   "cell_type": "markdown",
   "id": "986fc4c0",
   "metadata": {},
   "source": [
    "### Emojis 😁\n",
    "\n",
    "What are the ten most common emojis by artist in the twitter descriptions? \n"
   ]
  },
  {
   "cell_type": "code",
   "execution_count": 280,
   "id": "fdcbfeca",
   "metadata": {},
   "outputs": [],
   "source": [
    "# #Shorter approach:\n",
    "# emojis = defaultdict(list)\n",
    "# for artist in twitter_data:\n",
    "#     for desc in twitter_data[artist]:\n",
    "#         emojis[artist].extend([c for c in desc if emoji.is_emoji(c)])\n",
    "        \n",
    "# for artist in emojis:\n",
    "#     print(artist)\n",
    "#     print(Counter(emojis[artist]).most_common(10))"
   ]
  },
  {
   "cell_type": "code",
   "execution_count": 297,
   "id": "567ef689",
   "metadata": {},
   "outputs": [
    {
     "name": "stdout",
     "output_type": "stream",
     "text": [
      "Top 10 common emojis by Robyn:\n",
      "❤ 4783\n",
      "🌈 4685\n",
      "🏳 3528\n",
      "♥ 3103\n",
      "✨ 2223\n",
      "🇺 1343\n",
      "🇪 1264\n",
      "🇸 1214\n",
      "✌ 1189\n",
      "♡ 1123\n",
      "Cher's top 10 emojis:\n",
      "❤ 79223\n",
      "🌈 47549\n",
      "♥ 33978\n",
      "🏳 33412\n",
      "✨ 29468\n",
      "🇺 25793\n",
      "💙 21379\n",
      "🌊 20223\n",
      "♡ 19432\n",
      "🇸 18309\n"
     ]
    }
   ],
   "source": [
    "def get_common_emojis(df, artist_column):\n",
    "    emojis_count = Counter()\n",
    "    for description in df[artist_column]:\n",
    "        if description is not None:\n",
    "            emojis = [c for c in description if is_emoji(c)]\n",
    "            emojis_count.update(emojis)\n",
    "\n",
    "    most_common_emojis = emojis_count.most_common(10)\n",
    "    return most_common_emojis\n",
    "\n",
    "#print out 10 most common emojis from Robyn's followers\n",
    "most_common_emojis = get_common_emojis(twit_df, 'robynkonichiwa')\n",
    "print(\"Top 10 common emojis by Robyn:\")\n",
    "for emoji, count in most_common_emojis:\n",
    "    print(emoji, count)\n",
    "\n",
    "#print out 10 most common emojis from Cher's followers\n",
    "most_common_emojis = get_common_emojis(twit_df, 'cher')\n",
    "print(\"Cher's top 10 emojis:\")\n",
    "for emoji, count in most_common_emojis:\n",
    "    print(emoji, count)"
   ]
  },
  {
   "cell_type": "markdown",
   "id": "bab9b770",
   "metadata": {},
   "source": [
    "### Hashtags\n",
    "\n",
    "What are the ten most common hashtags by artist in the twitter descriptions? \n"
   ]
  },
  {
   "cell_type": "code",
   "execution_count": 254,
   "id": "df871bb3",
   "metadata": {},
   "outputs": [
    {
     "name": "stdout",
     "output_type": "stream",
     "text": [
      "Robyn's top 10 hashtags:\n",
      "BlackLivesMatter 337\n",
      "BLM 306\n",
      "blacklivesmatter 208\n",
      "1 199\n",
      "music 174\n",
      "Music 113\n",
      "EDM 86\n",
      "LGBTQ 75\n",
      "TeamFollowBack 59\n",
      "blm 56\n",
      "----------------------------\n",
      "Cher's top 10 hashtags:\n",
      "BLM 9535\n",
      "Resist 6036\n",
      "BlackLivesMatter 4681\n",
      "resist 3797\n",
      "FBR 3239\n",
      "TheResistance 2995\n",
      "blacklivesmatter 2645\n",
      "1 2627\n",
      "Resistance 1919\n",
      "RESIST 1823\n"
     ]
    }
   ],
   "source": [
    "#Create function to get common hashtags\n",
    "def get_common_hashtags(df, artist_column):\n",
    "    hashtags_count = Counter() #create list of hashtags and their counts\n",
    "    for descriptions in df[artist_column]:\n",
    "        if isinstance(descriptions, str):  # Check if description is a string\n",
    "            hashtags = re.findall(r'#(\\w+)', descriptions, flags=re.IGNORECASE)  # Extract hashtags using regex\n",
    "            hashtags_count.update(hashtags)\n",
    "\n",
    "    most_common_hashtags = hashtags_count.most_common(10)\n",
    "    return most_common_hashtags\n",
    "\n",
    "#Top 10 most hashtags from Robyn's followers\n",
    "most_common_hashtags_robyn = get_common_hashtags(twit_df, 'robynkonichiwa')\n",
    "print(\"Robyn's top 10 hashtags:\")\n",
    "for hashtag, count in most_common_hashtags_robyn:\n",
    "    print(hashtag, count)\n",
    "\n",
    "print('----------------------------')\n",
    "    \n",
    "#Top 10 most hashtags from Cher's followers\n",
    "most_common_hashtags_cher = get_common_hashtags(twit_df, 'cher')\n",
    "print(\"Cher's top 10 hashtags:\")\n",
    "for hashtag, count in most_common_hashtags_cher:\n",
    "    print(hashtag, count)\n"
   ]
  },
  {
   "cell_type": "markdown",
   "id": "d10f21d5",
   "metadata": {},
   "source": [
    "### Song Titles\n",
    "\n",
    "What are the five most common words in song titles by artist? The song titles should be on the first line of the lyrics pages, so if you have kept the raw file contents around, you will not need to re-read the data.\n"
   ]
  },
  {
   "cell_type": "markdown",
   "id": "4b7091a6",
   "metadata": {},
   "source": [
    "#### --> it might be more informative to observe most common words with stopwords removed"
   ]
  },
  {
   "cell_type": "code",
   "execution_count": 264,
   "id": "f908504d",
   "metadata": {},
   "outputs": [
    {
     "data": {
      "text/html": [
       "<div>\n",
       "<style scoped>\n",
       "    .dataframe tbody tr th:only-of-type {\n",
       "        vertical-align: middle;\n",
       "    }\n",
       "\n",
       "    .dataframe tbody tr th {\n",
       "        vertical-align: top;\n",
       "    }\n",
       "\n",
       "    .dataframe thead th {\n",
       "        text-align: right;\n",
       "    }\n",
       "</style>\n",
       "<table border=\"1\" class=\"dataframe\">\n",
       "  <thead>\n",
       "    <tr style=\"text-align: right;\">\n",
       "      <th></th>\n",
       "      <th>artist</th>\n",
       "      <th>title</th>\n",
       "      <th>lyrics</th>\n",
       "      <th>cleaned_lyrics</th>\n",
       "      <th>cleaned_title</th>\n",
       "    </tr>\n",
       "  </thead>\n",
       "  <tbody>\n",
       "    <tr>\n",
       "      <th>0</th>\n",
       "      <td>robyn</td>\n",
       "      <td>\"Include Me Out\"</td>\n",
       "      <td>It is really very simple\\nJust a single pulse,...</td>\n",
       "      <td>[really, simple, single, pulse, repeated, regu...</td>\n",
       "      <td>[include]</td>\n",
       "    </tr>\n",
       "    <tr>\n",
       "      <th>1</th>\n",
       "      <td>robyn</td>\n",
       "      <td>\"Electric\"</td>\n",
       "      <td>Electric...\\n\\nIt's electric\\nIt's a natural h...</td>\n",
       "      <td>[electric, electric, natural, high, electric, ...</td>\n",
       "      <td>[electric]</td>\n",
       "    </tr>\n",
       "  </tbody>\n",
       "</table>\n",
       "</div>"
      ],
      "text/plain": [
       "  artist             title                                             lyrics  \\\n",
       "0  robyn  \"Include Me Out\"  It is really very simple\\nJust a single pulse,...   \n",
       "1  robyn        \"Electric\"  Electric...\\n\\nIt's electric\\nIt's a natural h...   \n",
       "\n",
       "                                      cleaned_lyrics cleaned_title  \n",
       "0  [really, simple, single, pulse, repeated, regu...     [include]  \n",
       "1  [electric, electric, natural, high, electric, ...    [electric]  "
      ]
     },
     "execution_count": 264,
     "metadata": {},
     "output_type": "execute_result"
    }
   ],
   "source": [
    "#Apply the cleaning and tokenization function to the lyrics title\n",
    "lyric_df['cleaned_title'] = lyric_df['title'].apply(clean_tokenize)\n",
    "lyric_df.head(2)"
   ]
  },
  {
   "cell_type": "code",
   "execution_count": 268,
   "id": "363802a8",
   "metadata": {},
   "outputs": [
    {
     "name": "stdout",
     "output_type": "stream",
     "text": [
      "Robyn's top 5 most common words in song titles:\n",
      "love 6\n",
      "dont 4\n",
      "u 4\n",
      "hang 3\n",
      "tell 3\n",
      "----------------------------\n",
      "Cher's top 5 most common words in song titles:\n",
      "love 38\n",
      "man 12\n",
      "song 11\n",
      "dont 10\n",
      "come 7\n"
     ]
    }
   ],
   "source": [
    "#Create function to get most common words in song titles \n",
    "def get_common_words(df, artist_name, title_column):\n",
    "    words_count = Counter()\n",
    "    artist_df = df[df['artist'] == artist_name]\n",
    "    for words in artist_df[title_column]:\n",
    "        for word in words:\n",
    "            words_count[word] += 1\n",
    "\n",
    "    most_common_words = words_count.most_common(5)\n",
    "    return most_common_words\n",
    "\n",
    "#Top 5 most common words in song titles by Robyn\n",
    "most_common_words = get_common_words(lyric_df, 'robyn', 'cleaned_title')\n",
    "print(\"Robyn's top 5 most common words in song titles:\")\n",
    "for word, count in most_common_words:\n",
    "    print(word, count)\n",
    "\n",
    "print('----------------------------') \n",
    "    \n",
    "#Top 5 most common words in song titles by Cher\n",
    "most_common_words = get_common_words(lyric_df, 'cher', 'cleaned_title')\n",
    "print(\"Cher's top 5 most common words in song titles:\")\n",
    "for word, count in most_common_words:\n",
    "    print(word, count)"
   ]
  },
  {
   "cell_type": "markdown",
   "id": "ef49aa95",
   "metadata": {},
   "source": [
    "#### Observe most common words including stopwords"
   ]
  },
  {
   "cell_type": "code",
   "execution_count": 263,
   "id": "4a6d4cc5",
   "metadata": {},
   "outputs": [
    {
     "name": "stdout",
     "output_type": "stream",
     "text": [
      "Robyn's top 5 most common words in song titles:\n",
      "me 7\n",
      "you 7\n",
      "the 7\n",
      "my 6\n",
      "to 6\n",
      "----------------------------\n",
      "Cher's top 5 most common words in song titles:\n",
      "the 29\n",
      "to 28\n",
      "\"the 24\n",
      "of 21\n",
      "\"i 21\n"
     ]
    }
   ],
   "source": [
    "def get_common_words(df, artist_name, title_column):\n",
    "    words_count = Counter()\n",
    "    artist_df = df[df['artist'] == artist_name]\n",
    "    for title in artist_df[title_column]:\n",
    "        words = title.lower().split()\n",
    "        words_count.update(words)\n",
    "\n",
    "    most_common_words = words_count.most_common(5)\n",
    "    return most_common_words\n",
    "\n",
    "#Top 5 most common words in song titles by Robyn\n",
    "most_common_words = get_common_words(lyric_df, 'robyn', 'title')\n",
    "print(\"Robyn's top 5 most common words in song titles:\")\n",
    "for word, count in most_common_words:\n",
    "    print(word, count)\n",
    "\n",
    "print('----------------------------') \n",
    "    \n",
    "#Top 5 most common words in song titles by Cher\n",
    "most_common_words = get_common_words(lyric_df, 'cher', 'title')\n",
    "print(\"Cher's top 5 most common words in song titles:\")\n",
    "for word, count in most_common_words:\n",
    "    print(word, count)"
   ]
  },
  {
   "cell_type": "markdown",
   "id": "5dd4fd71",
   "metadata": {},
   "source": [
    "### Song Lengths\n",
    "\n",
    "For each artist, a histogram of song lengths (in terms of number of tokens). If you put the song lengths in a data frame with an artist column, matplotlib will make the plotting quite easy. An example is given to help you out. \n"
   ]
  },
  {
   "cell_type": "code",
   "execution_count": 273,
   "id": "805a1e52",
   "metadata": {},
   "outputs": [
    {
     "data": {
      "text/plain": [
       "artist\n",
       "Artist 1    AxesSubplot(0.125,0.125;0.775x0.755)\n",
       "Artist 2    AxesSubplot(0.125,0.125;0.775x0.755)\n",
       "Name: length, dtype: object"
      ]
     },
     "execution_count": 273,
     "metadata": {},
     "output_type": "execute_result"
    },
    {
     "data": {
      "image/png": "[encoded data removed]",
      "text/plain": [
       "<Figure size 432x288 with 1 Axes>"
      ]
     },
     "metadata": {
      "needs_background": "light"
     },
     "output_type": "display_data"
    }
   ],
   "source": [
    "num_replicates = 1000\n",
    "\n",
    "df = pd.DataFrame({\n",
    "    \"artist\" : ['Artist 1'] * num_replicates + ['Artist 2']*num_replicates,\n",
    "    \"length\" : np.concatenate((np.random.poisson(125,num_replicates),np.random.poisson(150,num_replicates)))\n",
    "})\n",
    "\n",
    "df.groupby('artist')['length'].plot(kind=\"hist\",density=True,alpha=0.5,legend=True)"
   ]
  },
  {
   "cell_type": "markdown",
   "id": "8fde9ebb",
   "metadata": {},
   "source": [
    "Since the lyrics may be stored with carriage returns or tabs, it may be useful to have a function that can collapse whitespace, using regular expressions, and be used for splitting. \n",
    "\n",
    "Q: What does the regular expression `'\\s+'` match on? \n",
    "\n",
    "A: It matches one or more consecutive whitespace characters.\n"
   ]
  },
  {
   "cell_type": "code",
   "execution_count": 275,
   "id": "39b3bb25",
   "metadata": {},
   "outputs": [
    {
     "data": {
      "image/png": "[encoded data removed]",
      "text/plain": [
       "<Figure size 432x288 with 1 Axes>"
      ]
     },
     "metadata": {
      "needs_background": "light"
     },
     "output_type": "display_data"
    }
   ],
   "source": [
    "\n",
    "collapse_whitespace = re.compile(r'\\s+')\n",
    "\n",
    "# Create function to tokenize lyrics\n",
    "def tokenize_lyrics(lyric):\n",
    "    \"\"\"Strip and split on whitespace\"\"\"\n",
    "    return [item.lower() for item in collapse_whitespace.split(lyric)]\n",
    "\n",
    "# Tokenize lyrics and count number of tokens\n",
    "lyric_df['tokenized_lyrics'] = lyric_df['lyrics'].apply(tokenize_lyrics)\n",
    "lyric_df['song_length'] = lyric_df['tokenized_lyrics'].apply(len)\n",
    "\n",
    "# Create histogram for each artist\n",
    "fig, ax = plt.subplots()\n",
    "lyric_df.groupby('artist')['song_length'].plot(kind='hist', density=True, alpha=0.5, legend=True, ax=ax)\n",
    "\n",
    "# Set plot labels and title\n",
    "ax.set_xlabel('Song Length')\n",
    "ax.set_ylabel('Frequency')\n",
    "ax.set_title('Song Lengths by Artist')\n",
    "\n",
    "# Show the plot\n",
    "plt.show()\n"
   ]
  },
  {
   "cell_type": "code",
   "execution_count": null,
   "id": "51c8c8de",
   "metadata": {},
   "outputs": [],
   "source": []
  }
 ],
 "metadata": {
  "kernelspec": {
   "display_name": "Python 3 (ipykernel)",
   "language": "python",
   "name": "python3"
  },
  "language_info": {
   "codemirror_mode": {
    "name": "ipython",
    "version": 3
   },
   "file_extension": ".py",
   "mimetype": "text/x-python",
   "name": "python",
   "nbconvert_exporter": "python",
   "pygments_lexer": "ipython3",
   "version": "3.9.7"
  }
 },
 "nbformat": 4,
 "nbformat_minor": 5
}
